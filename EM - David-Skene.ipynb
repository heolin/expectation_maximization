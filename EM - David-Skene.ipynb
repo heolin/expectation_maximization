{
 "cells": [
  {
   "cell_type": "code",
   "execution_count": 235,
   "metadata": {
    "collapsed": true
   },
   "outputs": [],
   "source": [
    "import numpy as np"
   ]
  },
  {
   "cell_type": "markdown",
   "metadata": {
    "collapsed": true
   },
   "source": [
    "## Algorytm EM David-Skene\n",
    "Załóżmy, że mamy $I$ itemów, zaindeksowanych $i=1,...,I$.\n",
    "Każdy item $i$ jest anotowany przez jednego z $K$ anotatorów ,$k=1,...,K$.\n",
    "Nie każdy anotator musi ocenić wszystkie itemy, ale anotator może odpowiedzieć na jedno pytanie więcej niż jeden raz.\n",
    "Mamy $J$ możliwych klas odpwiedzi, indeksowane $l=1,...,J$.\n",
    "Określamy $n_{il}^{(k)}$ jako liczbę ile razy anotator $k$ oznaczył odpowiedzią $l$ item $i$.\n",
    "\n",
    "Głównym celem zadania jest obliczenie error-rates, oznaczanych jako $\\pi_{jl}^{(k)}$, gdzie $q$ i $l$ to klasy odpowiedzi (chyba: prawdopodobieństwo, że wybrano klase $l$ zmiast klasy $j$).\n",
    "\n",
    "\n",
    "\n",
    "## Kroki algorytmu\n",
    "\n",
    "### 1. Zainicializuj początkowe wartości T\n",
    "### 2. Wylicz estymacje $p$ oraz $\\pi$\n",
    "Użyj równania (2.3) oraz równania (2.4) by obliczyć estymacje wartości $p$ oraz $\\pi$.\n",
    "\n",
    "$$\\mathrm{(2.3)}~\\hat{\\pi}_{jl}^{(k)}=\\frac{\\sum_i T_{ij} n_{il}^{(k)} }{\\sum_l\\sum_i T_{ij} n_{il}^{(k)}}$$\n",
    "\n",
    "Co można interpretować jako:\n",
    "$$\\mathrm{(1.1)}~\\hat{\\pi}_{jl}^{(k)}=\\frac{\\mathrm{ile~razy~anotator~k~oznaczył~wartość~l~zamiast~j}}{\\mathrm{ile~itemów~oznaczonych~przez~anotatora~k~miało~prawidło~wybraną~klasę~j}}$$\n",
    "\n",
    "Niech $T_{ij}$ zawiera prawdopodobieństwo, że item $i$ ma odpowiedź $j$. Jeżeli odpowiedź $j$ jest właściwa dla itemu $i$ to $T_{ij}=1$ w przeciwnym wypadku $T_{ij}=0~(j\\neq q)$\n",
    "\n",
    "Oszacowanie prawdopodobieństwa klasy $j$. Liczone jako:\n",
    "\n",
    "$$\\mathrm{(2.4)}~\\hat{p}_j=\\frac{\\sum_i T{ij}}{I}$$\n",
    "\n",
    "Gdzie $T_{ij}$ to prawdopodobieństwo, że item $i$ ma klasę $j$, a $I$ to liczba wszystkich itemów.\n",
    "\n",
    "### 3. Oszacuj nowe wartości dla $T$\n",
    "Użyj równania (2.5) i estymatów wyliczonych w kroku 2. ($p$ oraz $\\pi$) by oszacować nowe wartości T. Estymacja $T_{ij}$ liczona jest jako:\n",
    "$$E(T_{ij}|data)=p(T_{ij}=1|data)$$.\n",
    "To oszacowanie jest wyrażone jako prawdopodobieństwo, że $j$ jest prawdziwą odpowiedzią dla itema $i$. Takie prawdopodobieństwo może być również użyte jako wejściowe wartości w kroku 1.\n",
    "\n",
    "Liczone jest wzorem:\n",
    "$$(2.5)~p(T_{ij}=1|\\mathrm{data})=\\frac{\\prod_{k=1}^K\\prod_{l=1}^J (\\pi_{jl}^{(k)})^{n_{il}^{(k)}} p_j}{\\sum_{q=1}^J\\prod_{k=1}^{K}\\prod_{l=1}^J(\\pi_{ql}^{(k)})^{n_{il}^{(k)}}p_q}$$\n",
    "\n",
    "\n",
    "### 4. Powtarzaj\n",
    "Powtarzaj kroki 2. i 3. aż do otrzymania zbieżności.\n",
    "\n",
    "\n",
    "### Końcowe oszacowanie\n",
    "$$\\prod_{i=1}^I\\Big(\\sum_{j=1}^J p_j \\prod_{k=1}^K \\prod_{l=1}^K (\\pi_{ql}^{(k)})^{n_{il}^{(k)}}\\Big)$$\n"
   ]
  },
  {
   "cell_type": "markdown",
   "metadata": {
    "collapsed": true
   },
   "source": [
    "http://docs.enthought.com/uchicago-pyanno/index.html\n",
    "http://citeseerx.ist.psu.edu/viewdoc/download;jsessionid=2B92C4AD34D55B2D4B8642F1146116F6?doi=10.1.1.469.1377&rep=rep1&type=pdf"
   ]
  },
  {
   "cell_type": "code",
   "execution_count": 516,
   "metadata": {
    "collapsed": true
   },
   "outputs": [],
   "source": [
    "# https://github.com/dallascard/dawid_skene/blob/master/dawid_skene.py\n",
    "#better implementation using numpy magix"
   ]
  },
  {
   "cell_type": "code",
   "execution_count": 517,
   "metadata": {
    "collapsed": true
   },
   "outputs": [],
   "source": [
    "data = {\n",
    "    1: {1:[1,1,1], 2:[1], 3:[1], 4:[1], 5:[1]},\n",
    "    2: {1:[3,3,3], 2:[4], 3:[3], 4:[3], 5:[4]},\n",
    "    3: {1:[1,1,2], 2:[2], 3:[1], 4:[2], 5:[2]},\n",
    "    4: {1:[2,2,2], 2:[3], 3:[1], 4:[2], 5:[1]},\n",
    "    5: {1:[2,2,2], 2:[3], 3:[2], 4:[2], 5:[2]},\n",
    "    6: {1:[2,2,2], 2:[3], 3:[3], 4:[2], 5:[2]},\n",
    "    7: {1:[1,2,2], 2:[2], 3:[1], 4:[1], 5:[1]},\n",
    "    8: {1:[3,3,3], 2:[3], 3:[4], 4:[3], 5:[3]},\n",
    "    9: {1:[2,2,2], 2:[2], 3:[2], 4:[2], 5:[3]},\n",
    "    10: {1:[2,3,2], 2:[2], 3:[2], 4:[2], 5:[3]},\n",
    "    11: {1:[4,4,4], 2:[4], 3:[4], 4:[4], 5:[4]},\n",
    "    12: {1:[2,2,2], 2:[3], 3:[3], 4:[4], 5:[3]},\n",
    "    13: {1:[1,1,1], 2:[1], 3:[1], 4:[1], 5:[1]},\n",
    "    14: {1:[2,2,2], 2:[3], 3:[2], 4:[1], 5:[2]},\n",
    "    15: {1:[1,2,1], 2:[1], 3:[1], 4:[1], 5:[1]},\n",
    "    16: {1:[1,1,1], 2:[2], 3:[1], 4:[1], 5:[1]},\n",
    "    17: {1:[1,1,1], 2:[1], 3:[1], 4:[1], 5:[1]},\n",
    "    18: {1:[1,1,1], 2:[1], 3:[1], 4:[1], 5:[1]},\n",
    "    19: {1:[2,2,2], 2:[2], 3:[2], 4:[2], 5:[1]},\n",
    "    20: {1:[2,2,2], 2:[1], 3:[3], 4:[2], 5:[2]},\n",
    "    21: {1:[2,2,2], 2:[2], 3:[2], 4:[2], 5:[2]},\n",
    "    22: {1:[2,2,2], 2:[2], 3:[2], 4:[2], 5:[1]},\n",
    "    23: {1:[2,2,2], 2:[3], 3:[2], 4:[2], 5:[2]},\n",
    "    24: {1:[2,2,1], 2:[2], 3:[2], 4:[2], 5:[2]},\n",
    "    25: {1:[1,1,1], 2:[1], 3:[1], 4:[1], 5:[1]},\n",
    "    26: {1:[1,1,1], 2:[1], 3:[1], 4:[1], 5:[1]},\n",
    "    27: {1:[2,3,2], 2:[2], 3:[2], 4:[2], 5:[2]},\n",
    "    28: {1:[1,1,1], 2:[1], 3:[1], 4:[1], 5:[1]},\n",
    "    29: {1:[1,1,1], 2:[1], 3:[1], 4:[1], 5:[1]},\n",
    "    30: {1:[1,1,2], 2:[1], 3:[1], 4:[2], 5:[1]},\n",
    "    31: {1:[1,1,1], 2:[1], 3:[1], 4:[1], 5:[1]},\n",
    "    32: {1:[3,3,3], 2:[3], 3:[2], 4:[3], 5:[3]},\n",
    "    33: {1:[1,1,1], 2:[1], 3:[1], 4:[1], 5:[1]},\n",
    "    34: {1:[2,2,2], 2:[2], 3:[2], 4:[2], 5:[2]},\n",
    "    35: {1:[2,2,2], 2:[3], 3:[2], 4:[3], 5:[2]},\n",
    "    36: {1:[4,3,3], 2:[4], 3:[3], 4:[4], 5:[3]},\n",
    "    37: {1:[2,2,1], 2:[2], 3:[2], 4:[3], 5:[2]},\n",
    "    38: {1:[2,3,2], 2:[3], 3:[2], 4:[3], 5:[3]},\n",
    "    39: {1:[3,3,3], 2:[3], 3:[4], 4:[3], 5:[2]},\n",
    "    40: {1:[1,1,1], 2:[1], 3:[1], 4:[1], 5:[1]},\n",
    "    41: {1:[1,1,1], 2:[1], 3:[1], 4:[1], 5:[1]},\n",
    "    42: {1:[1,2,1], 2:[2], 3:[1], 4:[1], 5:[1]},\n",
    "    43: {1:[2,3,2], 2:[2], 3:[2], 4:[2], 5:[2]},\n",
    "    44: {1:[1,2,1], 2:[1], 3:[1], 4:[1], 5:[1]},\n",
    "    45: {1:[2,2,2], 2:[2], 3:[2], 4:[2], 5:[2]}\n",
    "}\n"
   ]
  },
  {
   "cell_type": "code",
   "execution_count": 518,
   "metadata": {
    "collapsed": false
   },
   "outputs": [],
   "source": [
    "def summarize_data(data):\n",
    "    items = sorted(data.keys())\n",
    "    items_count = len(items)\n",
    "\n",
    "    annotators = set()\n",
    "    classes = set()\n",
    "\n",
    "    for index in items:\n",
    "        item_annotators = data[index].keys()\n",
    "\n",
    "        for k in item_annotators:\n",
    "            annotators.add(k)\n",
    "            item_annotator_annotations = data[index][k]\n",
    "            classes.update(item_annotator_annotations)\n",
    "\n",
    "    classes = sorted(list(classes))\n",
    "    classes_count = len(classes)\n",
    "\n",
    "    annotators = list(annotators)\n",
    "    annotators_count = len(annotators)\n",
    "\n",
    "    counts = np.zeros([items_count, annotators_count, classes_count])\n",
    "\n",
    "    for item in items:\n",
    "        i = items.index(item)\n",
    "        for annotator in data[index].keys():\n",
    "            k = annotators.index(annotator)\n",
    "            for clas in data[item][annotator]:\n",
    "                j = classes.index(clas)\n",
    "                counts[i, k, j] += 1\n",
    "\n",
    "    return (items, annotators, classes, counts)\n"
   ]
  },
  {
   "cell_type": "code",
   "execution_count": 519,
   "metadata": {
    "collapsed": false
   },
   "outputs": [],
   "source": [
    "def initialize_item_classes(counts):\n",
    "    items_count, annotators_count, classes_count = np.shape(counts)\n",
    "    classes_sums = np.sum(counts, 1)\n",
    "\n",
    "    item_classes = np.zeros([items_count, classes_count])\n",
    "\n",
    "    for i in xrange(items_count):\n",
    "        item_classes[i, :] = classes_sums[i, :] / np.sum(classes_sums[i,:], dtype=float)\n",
    "    \n",
    "    return item_classes\n"
   ]
  },
  {
   "cell_type": "code",
   "execution_count": 523,
   "metadata": {
    "collapsed": false
   },
   "outputs": [],
   "source": [
    "def m_step(counts, items_classes):\n",
    "    items_count, annotators_count, classes_count = np.shape(counts)\n",
    "\n",
    "    class_marginals = np.zeros(classes_count)\n",
    "    for j in xrange(classes_count):\n",
    "        class_marginals[j] = sum([items_classes[i, j] for i in xrange(items_count)]) / items_count\n",
    "\n",
    "    error_rates = np.zeros([annotators_count, classes_count, classes_count])\n",
    "    for k in xrange(annotators_count):\n",
    "        for j in xrange(classes_count):\n",
    "            for l in xrange(classes_count):\n",
    "                counter = sum([items_classes[i, j] * counts[i, k, l] for i in xrange(items_count)])\n",
    "                denominator = sum([sum([items_classes[(i, j)] * counts[i, k, ll] for i in xrange(items_count)]) for ll in xrange(J)])\n",
    "                error_rates[k, j, l] = counter / denominator\n",
    "    return (class_marginals, error_rates)\n"
   ]
  },
  {
   "cell_type": "code",
   "execution_count": 524,
   "metadata": {
    "collapsed": false
   },
   "outputs": [],
   "source": [
    "def e_step(counts, class_marginals, error_rates):\n",
    "    [items_count, annotators_count, classes_count] = np.shape(counts)\n",
    "\n",
    "    item_classes = np.zeros([items_count, classes_count])    \n",
    "\n",
    "    for i in xrange(items_count):\n",
    "        for j in xrange(classes_count):\n",
    "            ccounter = p[j]\n",
    "            for k in xrange(annotators_count):\n",
    "                annotator_counter = 1\n",
    "                for l in xrange(classes_count):\n",
    "                    annotator_counter *= error_rates[k, j, l] ** counts[i, k, l]\n",
    "                ccounter *= annotator_counter\n",
    "\n",
    "            item_classes[i, j] = ccounter\n",
    "\n",
    "            class_sum = 0\n",
    "            for q in xrange(classes_count):\n",
    "                counter = p[q]\n",
    "                for k in xrange(annotators_count):\n",
    "                    annotator_counter = 1\n",
    "                    for l in xrange(classes_count):\n",
    "                        annotator_counter *= error_rates[k, q, l] ** counts[i, k, l] \n",
    "                    counter *= annotator_counter\n",
    "                class_sum += counter\n",
    "                \n",
    "            item_classes[i, j] = ccounter/float(class_sum)\n",
    "            \n",
    "    return item_classes\n"
   ]
  },
  {
   "cell_type": "code",
   "execution_count": 525,
   "metadata": {
    "collapsed": false
   },
   "outputs": [],
   "source": [
    "items, annotators, classes, counts = summarize_data(data)\n",
    "items_classes = initialize_item_classes(counts)\n",
    "\n",
    "for _ in xrange(100):\n",
    "    class_marginals, error_rates = m_step(counts, items_classes)\n",
    "    item_classes = e_step(counts, class_marginals, error_rates)"
   ]
  },
  {
   "cell_type": "code",
   "execution_count": 526,
   "metadata": {
    "collapsed": false,
    "scrolled": true
   },
   "outputs": [
    {
     "name": "stdout",
     "output_type": "stream",
     "text": [
      "1 0.999999469163\n",
      "4 0.600617557327\n",
      "2 0.764778433666\n",
      "2 0.99784419555\n",
      "2 0.991920472922\n",
      "2 0.96004226848\n",
      "1 0.950026466241\n",
      "3 0.977410390021\n",
      "2 0.994375468077\n",
      "2 0.911040205545\n",
      "4 0.999998602699\n",
      "3 0.857222505979\n",
      "1 0.999999469163\n",
      "2 0.994659237987\n",
      "1 0.999973468726\n",
      "1 0.999978943891\n",
      "1 0.999999469163\n",
      "1 0.999999469163\n",
      "2 0.999796840213\n",
      "2 0.994340231803\n",
      "2 0.999226097279\n",
      "2 0.999796840213\n",
      "2 0.991920472922\n",
      "2 0.999836379095\n",
      "1 0.999999469163\n",
      "1 0.999999469163\n",
      "2 0.986822608799\n",
      "1 0.999999469163\n",
      "1 0.999999469163\n",
      "1 0.99846757841\n",
      "1 0.999999469163\n",
      "3 0.999802507433\n",
      "1 0.999999469163\n",
      "2 0.999226097279\n",
      "2 0.881393838226\n",
      "4 0.980404920622\n",
      "2 0.998091063114\n",
      "3 0.944405052898\n",
      "3 0.992516786482\n",
      "1 0.999999469163\n",
      "1 0.999999469163\n",
      "1 0.998948671552\n",
      "2 0.986822608799\n",
      "1 0.999973468726\n",
      "2 0.999226097279\n"
     ]
    }
   ],
   "source": [
    "for index, item in enumerate(item_classes):\n",
    "    max_class = np.max(item)\n",
    "    print np.argmax(item)+1, max_class"
   ]
  },
  {
   "cell_type": "code",
   "execution_count": null,
   "metadata": {
    "collapsed": true
   },
   "outputs": [],
   "source": []
  }
 ],
 "metadata": {
  "kernelspec": {
   "display_name": "Python 2",
   "language": "python",
   "name": "python2"
  },
  "language_info": {
   "codemirror_mode": {
    "name": "ipython",
    "version": 2
   },
   "file_extension": ".py",
   "mimetype": "text/x-python",
   "name": "python",
   "nbconvert_exporter": "python",
   "pygments_lexer": "ipython2",
   "version": "2.7.6"
  }
 },
 "nbformat": 4,
 "nbformat_minor": 0
}
