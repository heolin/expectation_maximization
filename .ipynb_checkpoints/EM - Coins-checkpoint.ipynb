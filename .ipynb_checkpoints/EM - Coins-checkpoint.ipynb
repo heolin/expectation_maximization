{
 "cells": [
  {
   "cell_type": "code",
   "execution_count": 12,
   "metadata": {
    "collapsed": true
   },
   "outputs": [],
   "source": [
    "import numpy as np\n",
    "import math\n",
    "from scipy.special import binom"
   ]
  },
  {
   "cell_type": "code",
   "execution_count": 13,
   "metadata": {
    "collapsed": true
   },
   "outputs": [],
   "source": [
    "# 1st:  Coin B, {HTTTHHTHTH}, 5H,5T\n",
    "# 2nd:  Coin A, {HHHHTHHHHH}, 9H,1T\n",
    "# 3rd:  Coin A, {HTHHHHHTHH}, 8H,2T\n",
    "# 4th:  Coin B, {HTHTTTHHTT}, 4H,6T\n",
    "# 5th:  Coin A, {THHHTHHHTH}, 7H,3T"
   ]
  },
  {
   "cell_type": "code",
   "execution_count": 14,
   "metadata": {
    "collapsed": false
   },
   "outputs": [],
   "source": [
    "heads_count = np.array([5, 9, 8, 4, 7])\n",
    "tails_count = 10 - heads_count\n",
    "experiments = zip(heads_count, tails_count)"
   ]
  },
  {
   "cell_type": "code",
   "execution_count": 23,
   "metadata": {
    "collapsed": false
   },
   "outputs": [
    {
     "name": "stdout",
     "output_type": "stream",
     "text": [
      "0.660456710451 0.403430255595\n",
      "0.743982200054 0.483947341194\n",
      "0.776200234493 0.507355431347\n",
      "0.788828526291 0.51490181363\n",
      "0.793731391253 0.517680348893\n",
      "0.795617469152 0.518791894512\n",
      "0.79634029865 0.5192520012\n",
      "0.796617085268 0.519444472976\n",
      "0.796723104828 0.519525137247\n",
      "0.796763743795 0.519558912017\n",
      "0.796779335331 0.519573030101\n",
      "0.796785323066 0.51957892113\n",
      "0.796787624986 0.519581375178\n",
      "0.796788510908 0.519582395921\n",
      "0.796788852257 0.519582819911\n",
      "0.796788983939 0.519582995809\n",
      "0.796789034801 0.519583068702\n",
      "0.796789054472 0.519583098879\n",
      "0.79678906209 0.519583111361\n",
      "0.796789065044 0.519583116519\n",
      "0.796789066191 0.519583118649\n",
      "0.796789066637 0.519583119528\n",
      "0.796789066811 0.519583119891\n",
      "0.796789066879 0.51958312004\n",
      "0.796789066906 0.519583120102\n",
      "0.796789066916 0.519583120127\n",
      "0.79678906692 0.519583120138\n",
      "0.796789066922 0.519583120142\n",
      "0.796789066922 0.519583120144\n",
      "0.796789066922 0.519583120145\n",
      "0.796789066923 0.519583120145\n",
      "0.796789066923 0.519583120145\n",
      "0.796789066923 0.519583120145\n",
      "0.796789066923 0.519583120145\n",
      "0.796789066923 0.519583120145\n",
      "0.796789066923 0.519583120145\n",
      "0.796789066923 0.519583120145\n",
      "0.796789066923 0.519583120145\n",
      "0.796789066923 0.519583120145\n",
      "0.796789066923 0.519583120145\n",
      "0.796789066923 0.519583120145\n",
      "0.796789066923 0.519583120145\n",
      "0.796789066923 0.519583120145\n",
      "0.796789066923 0.519583120145\n",
      "0.796789066923 0.519583120145\n",
      "0.796789066923 0.519583120145\n",
      "0.796789066923 0.519583120145\n",
      "0.796789066923 0.519583120145\n",
      "0.796789066923 0.519583120145\n",
      "0.796789066923 0.519583120145\n"
     ]
    }
   ],
   "source": [
    "pA_heads = np.zeros(100); pA_heads[0] = 0.6\n",
    "pB_heads = np.zeros(100); pB_heads[0] = 0.05\n",
    "\n",
    "for iteration in xrange(50):\n",
    "    expectation_A = np.zeros((len(experiments), 2), dtype=float) \n",
    "    expectation_B = np.zeros((len(experiments), 2), dtype=float)\n",
    "    \n",
    "    for index in xrange(len(experiments)):\n",
    "        e = experiments[index]\n",
    "        ll_A = get_likehood(e[0], 10, pA_heads[iteration])\n",
    "        ll_B = get_likehood(e[0], 10, pB_heads[iteration])\n",
    "        \n",
    "        weightA = ll_A / (ll_A + ll_B)\n",
    "        weightB = ll_B / (ll_A + ll_B)\n",
    "        \n",
    "        expectation_A[index] = np.dot(weightA, e)\n",
    "        expectation_B[index] = np.dot(weightB, e)\n",
    "   \n",
    "    pA_heads[iteration+1] = sum(expectation_A)[0] / sum(sum(expectation_A)); \n",
    "    pB_heads[iteration+1] = sum(expectation_B)[0] / sum(sum(expectation_B));\n",
    "    print pA_heads[iteration+1], pB_heads[iteration+1]"
   ]
  },
  {
   "cell_type": "code",
   "execution_count": 16,
   "metadata": {
    "collapsed": true
   },
   "outputs": [],
   "source": [
    "def get_likehood(k, n, theta):\n",
    "    return binom(n, k) * (theta ** k) * (1 - theta) ** (n - k)"
   ]
  },
  {
   "cell_type": "code",
   "execution_count": null,
   "metadata": {
    "collapsed": true
   },
   "outputs": [],
   "source": []
  },
  {
   "cell_type": "code",
   "execution_count": null,
   "metadata": {
    "collapsed": true
   },
   "outputs": [],
   "source": []
  }
 ],
 "metadata": {
  "kernelspec": {
   "display_name": "Python 2",
   "language": "python",
   "name": "python2"
  },
  "language_info": {
   "codemirror_mode": {
    "name": "ipython",
    "version": 2
   },
   "file_extension": ".py",
   "mimetype": "text/x-python",
   "name": "python",
   "nbconvert_exporter": "python",
   "pygments_lexer": "ipython2",
   "version": "2.7.6"
  }
 },
 "nbformat": 4,
 "nbformat_minor": 0
}
