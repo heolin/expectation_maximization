{
 "cells": [
  {
   "cell_type": "code",
   "execution_count": 15,
   "metadata": {
    "collapsed": false
   },
   "outputs": [
    {
     "name": "stdout",
     "output_type": "stream",
     "text": [
      "{('house', 'bleu'): 0.123046875, ('house', 'maison'): 1.353515625, ('blue', 'maison'): 0.123046875, ('blue', 'bleu'): 0.123046875}\n"
     ]
    }
   ],
   "source": [
    "e_set = [\"house\", \"blue\"]\n",
    "f_set = [\"bleu\", \"maison\"]\n",
    "\n",
    "e_s_set = [\"house blue\", \"house blue\", \"house\"]\n",
    "f_s_set = [\"maison bleu\", \"maison bleu\", \"maison\"]\n",
    "\n",
    "\n",
    "t = {}\n",
    "for e in e_set:\n",
    "    for f in f_set:\n",
    "        t[(e, f)] = 0.5\n",
    "\n",
    "improvement = 1\n",
    "for _ in xrange(10):\n",
    "    improvement = 0\n",
    "    count = {}\n",
    "    for e, f in t.keys():\n",
    "        count[(e, f)] = 0\n",
    "        \n",
    "    total = {}\n",
    "    for f in f_set:\n",
    "        total[f] = 0\n",
    "        \n",
    "    for e_s, f_s in zip(e_s_set, f_s_set):\n",
    "        for e in e_s.split():\n",
    "            total_s = 0.0\n",
    "            for f in f_s.split():\n",
    "                total_s += t[(e, f)]\n",
    "        \n",
    "        for e in e_s.split():\n",
    "            for f in f_s.split():\n",
    "                count[(e, f)] += t[(e, f)] / total_s\n",
    "                total[f] += t[(e, f)] / total_s\n",
    "\n",
    "    for e, f in t.keys():\n",
    "        improvement += (count[(e, f)] / total_s) - t[(e, f)]\n",
    "        t[(e, f)] = count[(e, f)] / total_s\n",
    "\n",
    "print t\n",
    "        \n",
    "   \n",
    "        "
   ]
  },
  {
   "cell_type": "code",
   "execution_count": null,
   "metadata": {
    "collapsed": true
   },
   "outputs": [],
   "source": []
  }
 ],
 "metadata": {
  "kernelspec": {
   "display_name": "Python 2",
   "language": "python",
   "name": "python2"
  },
  "language_info": {
   "codemirror_mode": {
    "name": "ipython",
    "version": 2
   },
   "file_extension": ".py",
   "mimetype": "text/x-python",
   "name": "python",
   "nbconvert_exporter": "python",
   "pygments_lexer": "ipython2",
   "version": "2.7.6"
  }
 },
 "nbformat": 4,
 "nbformat_minor": 0
}
