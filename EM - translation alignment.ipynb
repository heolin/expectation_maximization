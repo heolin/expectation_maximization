{
 "cells": [
  {
   "cell_type": "code",
   "execution_count": 41,
   "metadata": {
    "collapsed": false
   },
   "outputs": [
    {
     "name": "stdout",
     "output_type": "stream",
     "text": [
      "[(('ja', 'i'), 0.9999999696633394), (('mam', 'have'), 0.983808348562578), (('domek', 'house'), 0.9999999696633394)]\n"
     ]
    }
   ],
   "source": [
    "e_set = [\"ja\", \"mam\", \"domek\"]\n",
    "f_set = [\"i\", \"have\", \"house\"]\n",
    "\n",
    "e_s_set = [\"ja mam domek\", \"ja domek mam\", \"domek\", \"ja\"]\n",
    "f_s_set = [\"i have house\", \"i have house\", \"house\", \"i\"]\n",
    "\n",
    "t = {}\n",
    "for e in e_set:\n",
    "    for f in f_set:\n",
    "        t[(e, f)] = 0.5\n",
    "\n",
    "for _ in xrange(50):\n",
    "    improvement = 0\n",
    "    count = {}\n",
    "    for e, f in t.keys():\n",
    "        count[(e, f)] = 0\n",
    "        \n",
    "    total = {}\n",
    "    for f in f_set:\n",
    "        total[f] = 0\n",
    "        \n",
    "    for e_s, f_s in zip(e_s_set, f_s_set):\n",
    "        total_s = {}\n",
    "        for e in e_s.split():\n",
    "            total_s[e] = 0.0\n",
    "            for f in f_s.split():\n",
    "                total_s[e] += t[(e, f)]\n",
    "        \n",
    "        for e in e_s.split():\n",
    "            for f in f_s.split():\n",
    "                count[(e, f)] += t[(e, f)] / total_s[e]\n",
    "                total[f] += t[(e, f)] / total_s[e]\n",
    "\n",
    "    for e, f in t.keys():\n",
    "        t[(e, f)] = count[(e, f)] / total[f]\n",
    "print filter(lambda x:x[1] > 0.5, t.items())\n",
    "        \n",
    "   \n",
    "        "
   ]
  }
 ],
 "metadata": {
  "kernelspec": {
   "display_name": "Python 2",
   "language": "python",
   "name": "python2"
  },
  "language_info": {
   "codemirror_mode": {
    "name": "ipython",
    "version": 2
   },
   "file_extension": ".py",
   "mimetype": "text/x-python",
   "name": "python",
   "nbconvert_exporter": "python",
   "pygments_lexer": "ipython2",
   "version": "2.7.6"
  }
 },
 "nbformat": 4,
 "nbformat_minor": 0
}
