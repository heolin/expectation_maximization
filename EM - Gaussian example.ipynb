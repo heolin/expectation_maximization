{
 "cells": [
  {
   "cell_type": "code",
   "execution_count": 266,
   "metadata": {
    "collapsed": true
   },
   "outputs": [],
   "source": [
    "%matplotlib inline"
   ]
  },
  {
   "cell_type": "code",
   "execution_count": 267,
   "metadata": {
    "collapsed": true
   },
   "outputs": [],
   "source": [
    "import numpy as np\n",
    "import matplotlib.pyplot as plt\n",
    "import matplotlib.mlab as mlab"
   ]
  },
  {
   "cell_type": "code",
   "execution_count": 268,
   "metadata": {
    "collapsed": false
   },
   "outputs": [],
   "source": [
    "X = np.array([2.0, 3.0, 3.5, 4.0, 4.5, 7.0, 7.3, 7.4, 7.5, 7.7, 8.0, 8.5])"
   ]
  },
  {
   "cell_type": "code",
   "execution_count": 269,
   "metadata": {
    "collapsed": false
   },
   "outputs": [
    {
     "data": {
      "image/png": "[encoded data removed]",
      "text/plain": [
       "<matplotlib.figure.Figure at 0x7f0a9b8eabd0>"
      ]
     },
     "metadata": {},
     "output_type": "display_data"
    }
   ],
   "source": [
    "mu1, sigma1, p1 = 1, 1, 0.5\n",
    "mu2, sigma2, p2 = 0, 1, 0.5\n",
    "\n",
    "draw_plot([], [], (mu1, sigma1, p1), (mu2, sigma2, p2))"
   ]
  },
  {
   "cell_type": "code",
   "execution_count": 270,
   "metadata": {
    "collapsed": false
   },
   "outputs": [],
   "source": [
    "def draw_plot(x1, x2, model1, model2):\n",
    "    p = plt.subplot()\n",
    "    p.set_xlim([0, 10])\n",
    "    p.set_ylim([-0.1, 0.5])\n",
    "    if not x1 and not x2:\n",
    "        p.plot(X, [0]*len(X), 'o', color='white')\n",
    "    p.plot(x1, [0]*len(x1), 'o', color='red')\n",
    "    p.plot(x2, [0]*len(x2), 'o', color='blue')\n",
    "    \n",
    "    p.plot(model1[0], [0], 'x', color='red')\n",
    "    p.plot(model2[0], [0], 'x', color='blue')\n",
    "\n",
    "    x = np.linspace(0, 10, 100)\n",
    "    p.plot(x, mlab.normpdf(x, model1[0], model1[1]), color='red')\n",
    "    p.plot(x, mlab.normpdf(x, model2[0], model2[1]), color='blue')\n",
    "    plt.show()"
   ]
  },
  {
   "cell_type": "code",
   "execution_count": 271,
   "metadata": {
    "collapsed": true
   },
   "outputs": [],
   "source": [
    "import math\n",
    "def get_prob(xi, model):\n",
    "    mu, sigma, _ = model\n",
    "    return 1.0/math.sqrt(2*math.pi*sigma**2) * math.exp(-((xi-mu)**2)/(2*sigma**2))"
   ]
  },
  {
   "cell_type": "code",
   "execution_count": 272,
   "metadata": {
    "collapsed": false
   },
   "outputs": [],
   "source": [
    "def M(X, model1, model2):\n",
    "    # oblicza wagi\n",
    "    data = []\n",
    "    for xi in X:\n",
    "        xi_a = get_prob(xi, model1)\n",
    "        xi_b = get_prob(xi, model2)\n",
    "        a_xi = xi_a * model1[2] / (xi_a * model1[2] + xi_b * model2[2])\n",
    "        b_xi = 1 - xi_a\n",
    "        d = (xi, a_xi, b_xi)\n",
    "        data.append(d)\n",
    "    return data"
   ]
  },
  {
   "cell_type": "code",
   "execution_count": 273,
   "metadata": {
    "collapsed": false
   },
   "outputs": [],
   "source": [
    "def E(data):\n",
    "    # updatuje model\n",
    "    mu1, mu2 = 0, 1\n",
    "    sum_a, sum_b = 0, 0\n",
    "    p1, p2 = 0, 0\n",
    "\n",
    "    for xi, ai, bi in data:\n",
    "        mu1 += xi * ai\n",
    "        sum_a += ai\n",
    "\n",
    "        mu2 += xi * bi\n",
    "        sum_b += bi\n",
    "        \n",
    "    mu1 /= sum_a\n",
    "    mu2 /= sum_b\n",
    "    \n",
    "    p2 = sum_b / len(data)\n",
    "    p1 = 1 - p2\n",
    "    \n",
    "    sigma1, sigma2 = 0, 0\n",
    "    for xi, ai, bi in data:\n",
    "        sigma1 += ai * (xi - mu1)**2\n",
    "        sigma2 += bi * (xi - mu2)**2\n",
    "        \n",
    "    sigma1 = math.sqrt(sigma1/sum_a)\n",
    "    sigma2 = math.sqrt(sigma2/sum_b)\n",
    "    \n",
    "    return (mu1, sigma1, p1), (mu2, sigma2, p2)"
   ]
  },
  {
   "cell_type": "code",
   "execution_count": 274,
   "metadata": {
    "collapsed": false
   },
   "outputs": [],
   "source": [
    "def assign_points(X, model1, model2):\n",
    "    Xa, Xb = [], []\n",
    "    \n",
    "    for xi in X:\n",
    "        xi_a = get_prob(xi, model1)\n",
    "        xi_b = get_prob(xi, model2)\n",
    "        if xi_a > xi_b:\n",
    "            Xa.append(xi)\n",
    "        else:\n",
    "            Xb.append(xi)\n",
    "    return Xa, Xb"
   ]
  },
  {
   "cell_type": "code",
   "execution_count": 295,
   "metadata": {
    "collapsed": false
   },
   "outputs": [
    {
     "data": {
      "image/png": "[encoded data removed]",
      "text/plain": [
       "<matplotlib.figure.Figure at 0x7f0a9b5f6950>"
      ]
     },
     "metadata": {},
     "output_type": "display_data"
    },
    {
     "data": {
      "image/png": "[encoded data removed]",
      "text/plain": [
       "<matplotlib.figure.Figure at 0x7f0a9b5f6610>"
      ]
     },
     "metadata": {},
     "output_type": "display_data"
    }
   ],
   "source": [
    "import random\n",
    "model1 = (random.randint(0, 10), 1, 0.5)\n",
    "model2 = (random.randint(0, 10), 1, 0.5)\n",
    "data = []\n",
    "draw_plot([], [], model1, model2)\n",
    "\n",
    "\n",
    "max_change = 1\n",
    "while max_change > 0.0001:\n",
    "    data = M(X, model1, model2)\n",
    "    new_model1, new_model2 = E(data)\n",
    "    \n",
    "    mu1_change = model1[0] - new_model1[0]\n",
    "    sigma1_change = model1[1] - new_model1[1]    \n",
    "    mu2_change = model2[0] - new_model2[0]\n",
    "    sigma2_change = model2[1] - new_model2[1]\n",
    "    max_change = max(mu1_change, sigma1_change, mu2_change, sigma2_change)\n",
    "    \n",
    "    model1, model2 = new_model1, new_model2\n",
    "\n",
    "Xa, Xb = assign_points(X, model1, model2)\n",
    "draw_plot(Xa, Xb, model1, model2)"
   ]
  },
  {
   "cell_type": "code",
   "execution_count": null,
   "metadata": {
    "collapsed": true
   },
   "outputs": [],
   "source": []
  }
 ],
 "metadata": {
  "kernelspec": {
   "display_name": "Python 2",
   "language": "python",
   "name": "python2"
  },
  "language_info": {
   "codemirror_mode": {
    "name": "ipython",
    "version": 2
   },
   "file_extension": ".py",
   "mimetype": "text/x-python",
   "name": "python",
   "nbconvert_exporter": "python",
   "pygments_lexer": "ipython2",
   "version": "2.7.6"
  }
 },
 "nbformat": 4,
 "nbformat_minor": 0
}
